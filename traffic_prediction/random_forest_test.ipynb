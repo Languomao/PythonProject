{
 "cells": [
  {
   "cell_type": "code",
   "execution_count": 1,
   "metadata": {},
   "outputs": [
    {
     "name": "stderr",
     "output_type": "stream",
     "text": [
      "C:\\Users\\xuxiaoqing\\Anaconda3\\lib\\site-packages\\h5py\\__init__.py:36: FutureWarning: Conversion of the second argument of issubdtype from `float` to `np.floating` is deprecated. In future, it will be treated as `np.float64 == np.dtype(float).type`.\n",
      "  from ._conv import register_converters as _register_converters\n",
      "Using TensorFlow backend.\n"
     ]
    }
   ],
   "source": [
    "import numpy as np\n",
    "from matplotlib import pyplot as plt\n",
    "import matplotlib\n",
    "matplotlib.rcParams['font.sans-serif'] = ['SimHei']\n",
    "import pandas as pd\n",
    "from pandas import Series, DataFrame\n",
    "from pandas import concat\n",
    "pd.set_option('display.max_columns', None)\n",
    "#显示所有行\n",
    "from sklearn.preprocessing import MinMaxScaler\n",
    "from sklearn.preprocessing import LabelEncoder\n",
    "from sklearn.metrics import mean_squared_error\n",
    "from keras.models import Sequential\n",
    "from keras.layers import LSTM, Dense, GRU\n",
    "from math import sqrt\n",
    "import keras.optimizers\n",
    "from sklearn.ensemble import RandomForestRegressor\n",
    "import xgboost as xgb\n",
    "from sklearn.multioutput import MultiOutputRegressor\n",
    "from sklearn.ensemble import GradientBoostingRegressor\n",
    " #fix random seed for reproducibility\n",
    "from matplotlib import pyplot\n",
    "import graphviz\n",
    "\n",
    "np.random.seed(2019)\n",
    "\n",
    "\n",
    "# 定义一个可以将序列数据转化成监督学习所需数据的函数\n",
    "def series_to_supervised(data, n_in=1, n_out=1, dropnan=True):\n",
    "    \"\"\"\n",
    "    Frame a time series as a supervised learning dataset.\n",
    "    Arguments:\n",
    "        data: Sequence of observations as a list or NumPy array.\n",
    "        n_in: Number of lag observations as input (X).\n",
    "        n_out: Number of observations as output (y).\n",
    "        dropnan: Boolean whether or not to drop rows with NaN values.\n",
    "    Returns:\n",
    "        Pandas DataFrame of series framed for supervised learning.\n",
    "    \"\"\"\n",
    "    n_vars = 1 if type(data) is list else data.shape[1]\n",
    "    df = DataFrame(data)\n",
    "    cols, names = list(), list()\n",
    "    # input sequence (t-n, ... t-1)\n",
    "    for i in range(n_in, 0, -1):\n",
    "        cols.append(df.shift(i))\n",
    "        names += [('var%d(t-%d)' % (j + 1, i)) for j in range(n_vars)]\n",
    "    # forecast sequence (t, t+1, ... t+n)\n",
    "    for i in range(0, n_out):\n",
    "        cols.append(df.shift(-i))\n",
    "        if i == 0:\n",
    "            names += [('var%d(t)' % (j + 1)) for j in range(n_vars)]\n",
    "        else:\n",
    "            names += [('var%d(t+%d)' % (j + 1, i)) for j in range(n_vars)]\n",
    "    # put it all together\n",
    "    agg = concat(cols, axis=1)\n",
    "    agg.columns = names\n",
    "    # drop rows with NaN values\n",
    "    if dropnan:\n",
    "        agg.dropna(inplace=True)\n",
    "    return agg"
   ]
  },
  {
   "cell_type": "code",
   "execution_count": 2,
   "metadata": {},
   "outputs": [],
   "source": [
    "def find_max(data,span=1):\n",
    "    data_len = data.shape[0]\n",
    "    span_len = data_len//span\n",
    "    span_max_all = []\n",
    "    for i in range(span_len):\n",
    "        span_max = np.max(data[i*span:(i+1)*span])\n",
    "        span_max_all.append(span_max)\n",
    "    span_max_all = np.array(span_max_all)\n",
    "    return span_max_all.reshape(-1,1)"
   ]
  },
  {
   "cell_type": "code",
   "execution_count": 3,
   "metadata": {},
   "outputs": [],
   "source": [
    "def outlier_process(data,thre=3):\n",
    "    data_output= data.copy()\n",
    "    [r, l] = data.shape\n",
    "    for i in range(r):\n",
    "        for j in range(l):\n",
    "           \n",
    "            if i == 0:\n",
    "                if (data[i,j]>thre*data[i+1,j] and data[i,j]>thre*data[i+2,j]) or (data[i,j]<data[i+1,j]/thre and data[i,j]<data[i+2,j]/thre):\n",
    "                    data_output[i,j] = (data[i+1,j]+data[i+2,j])/2\n",
    "            elif i>0 and i<r-1:\n",
    "                \n",
    "                if (data[i,j]>thre*data[i-1,j] and data[i,j]>thre*data[i+1,j]) or (data[i,j]<data[i-1,j]/thre and data[i,j]<data[i+1,j]/thre):\n",
    "                    data_output[i,j] = (data[i-1,j]+data[i+1,j])/2\n",
    "            else:\n",
    "                if (data[i,j]>thre*data[i-1,j] and data[i,j]>thre*data[i-2,j]) or (data[i,j]<data[i-1,j]/thre and data[i,j]<data[i-2,j]/thre):\n",
    "                    data_output[i,j] = (data[i-1,j]+data[i-2,j])/2\n",
    "    return data_output "
   ]
  },
  {
   "cell_type": "code",
   "execution_count": 4,
   "metadata": {},
   "outputs": [],
   "source": [
    "def persistence(last_ob, n_predict):\n",
    "    return [last_ob for i in range(n_predict)]"
   ]
  },
  {
   "cell_type": "code",
   "execution_count": 5,
   "metadata": {},
   "outputs": [],
   "source": [
    "def mape_error(y_true, y_pred):\n",
    "    return np.mean(np.abs((y_pred - y_true) / y_true)) * 100"
   ]
  },
  {
   "cell_type": "code",
   "execution_count": 6,
   "metadata": {},
   "outputs": [],
   "source": [
    "def mae_error(y_true, y_pred):\n",
    "    return np.mean(np.abs(y_pred - y_true))"
   ]
  },
  {
   "cell_type": "code",
   "execution_count": 7,
   "metadata": {},
   "outputs": [],
   "source": [
    "def corr_find(data1,data2):\n",
    "    cor = stats.pearsonr(data1, data2)\n",
    "    return cor[0]"
   ]
  },
  {
   "cell_type": "code",
   "execution_count": 8,
   "metadata": {},
   "outputs": [],
   "source": [
    "def data_sum(data):\n",
    "    return data.sum(axis=1)"
   ]
  },
  {
   "cell_type": "code",
   "execution_count": 9,
   "metadata": {},
   "outputs": [],
   "source": [
    "citys = ['12','13','19','23','8','18','4','1','5','3','10',\n",
    "         '22','7','2','6','16','14','20','11','9','17','21','15']"
   ]
  },
  {
   "cell_type": "code",
   "execution_count": 10,
   "metadata": {},
   "outputs": [],
   "source": [
    "# 选择某个终点城市\n",
    "# traffic = np.load('t_sum_GEANT.npy')\n",
    "start_city = '16'\n",
    "start_city_num = citys.index(start_city)\n",
    "# raw_data = traffic[start_city_num, :, :].transpose()\n",
    "#sum_city = np.zeros(raw_data[:,1].shape)\n",
    "# %matplotlib auto\n",
    "end_city = '5'\n",
    "end_city_num = citys.index(end_city)\n",
    "raw_data_uni = raw_data[:,end_city_num]"
   ]
  },
  {
   "cell_type": "code",
   "execution_count": 11,
   "metadata": {},
   "outputs": [
    {
     "name": "stderr",
     "output_type": "stream",
     "text": [
      "C:\\Users\\xuxiaoqing\\Anaconda3\\lib\\site-packages\\ipykernel_launcher.py:1: RuntimeWarning: invalid value encountered in greater\n",
      "  \"\"\"Entry point for launching an IPython kernel.\n"
     ]
    }
   ],
   "source": [
    "raw_data_uni[raw_data_uni >500000]=0"
   ]
  },
  {
   "cell_type": "code",
   "execution_count": 12,
   "metadata": {},
   "outputs": [
    {
     "data": {
      "image/png": "[encoded data removed]",
      "text/plain": [
       "<Figure size 432x288 with 1 Axes>"
      ]
     },
     "metadata": {},
     "output_type": "display_data"
    }
   ],
   "source": [
    "plt.figure()\n",
    "plt.plot(range(1,len(raw_data_uni)+1), raw_data_uni, '-*',label= start_city+'到'+end_city)\n",
    "plt.legend()\n",
    "plt.xlabel('时间')\n",
    "plt.ylabel('峰值流速（kbps）')\n",
    "plt.title('%s 到 %s'%(start_city,end_city))\n",
    "plt.show()"
   ]
  },
  {
   "cell_type": "code",
   "execution_count": 13,
   "metadata": {},
   "outputs": [],
   "source": [
    "raw_data_uni_partial = raw_data_uni[-24*4*7*2-24*4*7:]"
   ]
  },
  {
   "cell_type": "code",
   "execution_count": 14,
   "metadata": {
    "scrolled": false
   },
   "outputs": [
    {
     "data": {
      "image/png": "[encoded data removed]",
      "text/plain": [
       "<Figure size 432x288 with 1 Axes>"
      ]
     },
     "metadata": {},
     "output_type": "display_data"
    }
   ],
   "source": [
    "plt.figure()\n",
    "plt.plot(range(1,len(raw_data_uni_partial)+1), raw_data_uni_partial, '-*',label= start_city+'到'+end_city)\n",
    "plt.legend()\n",
    "plt.xlabel('时间')\n",
    "plt.ylabel('峰值流速（kbps）')\n",
    "plt.title('%s 到 %s'%(start_city,end_city))\n",
    "plt.show()"
   ]
  },
  {
   "cell_type": "code",
   "execution_count": 15,
   "metadata": {},
   "outputs": [
    {
     "data": {
      "text/plain": [
       "(2016, 1)"
      ]
     },
     "execution_count": 15,
     "metadata": {},
     "output_type": "execute_result"
    }
   ],
   "source": [
    "raw_data_uni_partial = raw_data_uni_partial.reshape(-1,1)\n",
    "raw_data_uni_partial.shape"
   ]
  },
  {
   "cell_type": "code",
   "execution_count": 16,
   "metadata": {},
   "outputs": [],
   "source": [
    "train_size = 24*4*7*2\n",
    "\n",
    "validation_size = 0\n",
    "test_size = 24*4*7\n",
    "\n",
    "look_back = 24*4*1\n",
    "n_predict = 24*4*2"
   ]
  },
  {
   "cell_type": "code",
   "execution_count": 17,
   "metadata": {},
   "outputs": [
    {
     "data": {
      "text/plain": [
       "1344"
      ]
     },
     "execution_count": 17,
     "metadata": {},
     "output_type": "execute_result"
    }
   ],
   "source": [
    "train_size"
   ]
  },
  {
   "cell_type": "code",
   "execution_count": 18,
   "metadata": {},
   "outputs": [
    {
     "data": {
      "text/plain": [
       "672"
      ]
     },
     "execution_count": 18,
     "metadata": {},
     "output_type": "execute_result"
    }
   ],
   "source": [
    "test_size"
   ]
  },
  {
   "cell_type": "code",
   "execution_count": 19,
   "metadata": {},
   "outputs": [],
   "source": [
    "def create_dataset(dataset, look_back=7, n_predict=3):   \n",
    "    X, Y = [], []\n",
    "    for i in range(len(dataset)-look_back-n_predict+1): \n",
    "        obs = dataset[i:(i+look_back), 0]\n",
    "# Sequence of 7 stock prices as features forming an observation\n",
    "# Append sequence\n",
    "        X.append(obs)\n",
    "       # Append stock price value occurring 4 time-steps into future\n",
    "        Y.append(dataset[i+look_back:i + (look_back+n_predict), 0]) \n",
    "    return np.array(X), np.array(Y)"
   ]
  },
  {
   "cell_type": "code",
   "execution_count": 20,
   "metadata": {},
   "outputs": [],
   "source": [
    "train_data = create_dataset(raw_data_uni_partial[:train_size], look_back=look_back, n_predict=n_predict)\n",
    "# validation_data = create_dataset(raw_data_uni_partial[train_size:train_size+validation_size], look_back=look_back, n_predict=n_predict)\n",
    "test_data = create_dataset(raw_data_uni_partial[train_size+validation_size:train_size+validation_size+test_size], look_back=look_back, n_predict=n_predict)"
   ]
  },
  {
   "cell_type": "code",
   "execution_count": 21,
   "metadata": {},
   "outputs": [],
   "source": [
    "train_x = train_data[0]\n",
    "train_y = train_data[1]\n",
    "# validation_x = validation_data[0]\n",
    "# validation_y = validation_data[1]\n",
    "test_x = test_data[0]\n",
    "test_y = test_data[1]"
   ]
  },
  {
   "cell_type": "code",
   "execution_count": 22,
   "metadata": {},
   "outputs": [
    {
     "name": "stdout",
     "output_type": "stream",
     "text": [
      "(1057, 96) (1057, 192) (385, 96) (385, 192)\n"
     ]
    }
   ],
   "source": [
    "n_feature = 1\n",
    "n_delay = look_back\n",
    "n_obs = n_delay * n_feature  # 一个样本中的所有输入特征\n",
    "\n",
    "\n",
    "print(train_x.shape, train_y.shape,test_x.shape,test_y.shape)"
   ]
  },
  {
   "cell_type": "code",
   "execution_count": 23,
   "metadata": {},
   "outputs": [
    {
     "name": "stderr",
     "output_type": "stream",
     "text": [
      "[Parallel(n_jobs=1)]: Done  10 out of  10 | elapsed:    4.7s finished\n",
      "[Parallel(n_jobs=1)]: Done  10 out of  10 | elapsed:    0.0s finished\n"
     ]
    }
   ],
   "source": [
    "#随机森林\n",
    "method = '随机森林'\n",
    "model = RandomForestRegressor(n_estimators=10,verbose=1)\n",
    "model.fit(train_x, train_y)\n",
    "yhat = model.predict(test_x)\n"
   ]
  },
  {
   "cell_type": "code",
   "execution_count": 24,
   "metadata": {},
   "outputs": [],
   "source": [
    "# multioutputregressor = MultiOutputRegressor(xgb.XGBRegressor(n_estimators=1000)).fit(train_x, train_y)\n",
    "# method = 'Xgboost'\n",
    "# #对测试集进行预测\n",
    "# yhat = multioutputregressor.predict(test_x)"
   ]
  },
  {
   "cell_type": "code",
   "execution_count": 25,
   "metadata": {},
   "outputs": [],
   "source": [
    "# multioutputregressor = MultiOutputRegressor(GradientBoostingRegressor(n_estimators=100)).fit(train_x, train_y)\n",
    "# yhat = multioutputregressor.predict(test_x)\n",
    "# method = 'GBDT'"
   ]
  },
  {
   "cell_type": "code",
   "execution_count": 26,
   "metadata": {},
   "outputs": [
    {
     "data": {
      "text/plain": [
       "(385, 192)"
      ]
     },
     "execution_count": 26,
     "metadata": {},
     "output_type": "execute_result"
    }
   ],
   "source": [
    "yhat.shape"
   ]
  },
  {
   "cell_type": "code",
   "execution_count": 27,
   "metadata": {},
   "outputs": [],
   "source": [
    "# make a persistence forecast\n",
    "def persistence(last_ob, n_predict):\n",
    "    return [last_ob for i in range(n_predict)]\n",
    "\n",
    "compare_base = raw_data_uni_partial[:, 0]\n",
    "compare_base_total = []\n",
    "for i in range(yhat.shape[0]):\n",
    "    compare_base1 = compare_base[-yhat.shape[0]+i-1]\n",
    "    compare_base2 = persistence(compare_base1, n_predict)\n",
    "    compare_base_total.append(compare_base2)\n",
    "compare_base_total = np.array(compare_base_total)\n",
    "# print(compare_base_total)"
   ]
  },
  {
   "cell_type": "code",
   "execution_count": 28,
   "metadata": {
    "scrolled": true
   },
   "outputs": [
    {
     "name": "stdout",
     "output_type": "stream",
     "text": [
      "[281978.60623 295753.19112 295593.09778 303691.37335 318470.44267\n",
      " 324278.74579 324178.28445 329605.69957 331926.79821 335152.68445\n",
      " 341380.83467 342304.62045 346487.50488 348176.57868 345375.79465\n",
      " 346068.84798 347712.75288 346101.61956 344495.81244 344550.99556\n",
      " 353933.96712 350569.69512 345114.13957 335844.97866 333832.65068\n",
      " 325501.1298  327214.82579 317220.104   314873.70224 311027.46579\n",
      " 317720.92801 316085.34401 316235.47466 312644.82044 312463.312\n",
      " 310841.62933 313946.70577 317368.8098  313122.05867 306659.10844\n",
      " 301769.9191  296499.58311 298031.21244 301959.07733 299374.83822\n",
      " 296710.25334 296089.784   300136.99733 300504.63023 298660.00536\n",
      " 297787.97421 293257.70933 286941.74846 283945.36979 281303.88444\n",
      " 274710.17513 272869.85689 260792.11912 252698.73512 245382.69068\n",
      " 241398.71466 232739.45511 229091.82489 222314.76178 218535.51288\n",
      " 212045.57956 206055.12975 202154.904   201908.61778 194597.35112\n",
      " 189736.18221 187688.01421 184891.19644 179583.19644 178889.9911\n",
      " 175732.39376 174755.72712 172698.23911 169287.40267 167963.8862\n",
      " 169500.54933 166022.08088 165046.7689  164873.61066 167209.39732\n",
      " 170279.90045 175011.01334 179539.42489 183824.75999 187803.92355\n",
      " 195778.07287 205300.91288 213799.12355 224835.77867 232141.91467\n",
      " 239061.41779 249066.06222 257260.64711 266131.22045 278483.29424\n",
      " 282192.6489  283557.68714 296426.50488 302311.77867 304959.31911\n",
      " 306640.74934 314248.67644 320078.95822 321234.75111 318319.72532\n",
      " 317051.90133 313649.96444 311598.13955 314008.34755 318851.60712\n",
      " 314939.44978 307302.14578 304588.78667 304751.95112 309424.34313\n",
      " 301980.15113 301908.67822 293538.00444 291095.74668 290082.24178\n",
      " 292365.8649  293278.50934 296862.06134 292490.5591  290570.82577\n",
      " 293608.15733 295735.32357 294045.62755 288349.16977 289256.32534\n",
      " 286661.55733 282362.35822 279617.76623 284874.51021 278045.01243\n",
      " 276969.73245 279040.25156 275321.49955 273622.47645 279788.22666\n",
      " 280850.07199 277136.07823 270348.12001 267224.5262  259656.95554\n",
      " 258000.13778 252555.9831  248296.14489 238150.03645 236806.15554\n",
      " 228024.05687 228060.90845 226985.72889 220832.21066 211801.57599\n",
      " 208544.62043 204582.29689 203320.53865 200074.58844 192271.95199\n",
      " 186453.18399 184583.54223 179601.00711 174714.03378 174760.87644\n",
      " 172293.57601 168797.30312 168357.32    165703.42755 163882.94756\n",
      " 162358.5351  158240.31822 156360.34488 156720.15199 157880.92533\n",
      " 161062.57777 159681.67823 158956.50221 161215.86133 164917.46578\n",
      " 168340.14132 174989.8231  178354.43112 184533.58669 188182.17512\n",
      " 192020.2009  194842.328  ]\n",
      "(385, 192)\n",
      "(385, 192)\n"
     ]
    }
   ],
   "source": [
    "# print(yhat)\n",
    "print(yhat[0])\n",
    "print(yhat.shape)\n",
    "print(test_y.shape)"
   ]
  },
  {
   "cell_type": "code",
   "execution_count": 29,
   "metadata": {},
   "outputs": [
    {
     "name": "stdout",
     "output_type": "stream",
     "text": [
      "随机森林预测的RMSE: 27689.558\n"
     ]
    }
   ],
   "source": [
    "rmse = sqrt(mean_squared_error(test_y, yhat))\n",
    "print(method+'预测的RMSE: %.3f' % rmse)"
   ]
  },
  {
   "cell_type": "code",
   "execution_count": 30,
   "metadata": {},
   "outputs": [
    {
     "name": "stdout",
     "output_type": "stream",
     "text": [
      "简单预测的RMSE: 92012.702\n"
     ]
    }
   ],
   "source": [
    "rmse1 = sqrt(mean_squared_error(test_y, compare_base_total))\n",
    "print('简单预测的RMSE: %.3f'% rmse1)"
   ]
  },
  {
   "cell_type": "code",
   "execution_count": 31,
   "metadata": {},
   "outputs": [
    {
     "name": "stdout",
     "output_type": "stream",
     "text": [
      "Using matplotlib backend: Qt5Agg\n"
     ]
    }
   ],
   "source": [
    "%matplotlib auto"
   ]
  },
  {
   "cell_type": "code",
   "execution_count": 32,
   "metadata": {
    "scrolled": true
   },
   "outputs": [
    {
     "name": "stdout",
     "output_type": "stream",
     "text": [
      "随机森林预测的RMSE: 36737.036\n",
      "简单预测的RMSE: 70593.769\n"
     ]
    }
   ],
   "source": [
    "predict_data = raw_data_uni_partial[:, 0].copy()\n",
    "predict_data[-n_predict:] = yhat[-1]\n",
    "compare_data = raw_data_uni_partial[:, 0].copy()\n",
    "compare_data[-n_predict:] = compare_base_total[-n_predict]\n",
    "\n",
    "actual_data = raw_data_uni_partial[:, 0].copy()\n",
    "actual_data[-n_predict::] = test_y[-1]\n",
    "\n",
    "rmse = sqrt(mean_squared_error(test_y, yhat))\n",
    "rmse1 = sqrt(mean_squared_error(test_y, compare_base_total))\n",
    "\n",
    "mae = mae_error(test_y, yhat)\n",
    "mae1 = mae_error(test_y, compare_base_total)\n",
    "mape = mape_error(test_y, yhat)\n",
    "mape1 = mape_error(test_y, compare_base_total)\n",
    "\n",
    "\n",
    "plt.figure()\n",
    "plt.plot(range(1,len(yhat[-1])+1),yhat[-1], '-*', label=method+'预测数据')\n",
    "plt.plot(range(1, len(test_y[-1])+1),compare_base_total[-n_predict], '-^',label= '简单预测数据')\n",
    "plt.plot(range(1,len(test_y[-1])+1), test_y[-1], '-o',label= '实际数据')\n",
    "plt.legend()\n",
    "plt.xlabel('时间')\n",
    "plt.ylabel('峰值流速（kbps）')\n",
    "plt.title('%s 到 %s'%(start_city+'节点',end_city+'节点'))\n",
    "# plt.text(0, 400000, method+'预测的RMSE: %.3f'% rmse) \n",
    "# plt.text(0, 410000, '简单预测的RMSE: %.3f'% rmse1) \n",
    "\n",
    "\n",
    "plt.text(0, 400000, method+'预测的MAE: %.3f'% mae) \n",
    "plt.text(0, 410000, '简单预测的MAE: %.3f'% mae1)\n",
    "plt.show()\n",
    "\n",
    "plt.figure()\n",
    "plt.plot(range(1,len(predict_data)+1),predict_data, '-*', label=method+'预测数据')\n",
    "plt.plot(range(1, len(predict_data)+1),compare_data, '-^',label= '简单预测数据')\n",
    "plt.plot(range(1,len(predict_data)+1), raw_data_uni_partial[:, 0], '-o',label= '实际数据')\n",
    "plt.legend()\n",
    "plt.xlabel('时间')\n",
    "plt.ylabel('峰值流速（kbps）')\n",
    "plt.title('%s 到 %s'%(start_city+'节点',end_city+'节点'))\n",
    "plt.text(0, 430000, method+'预测的MAE: %.3f'% mae) \n",
    "plt.text(0, 420000, '简单预测的MAE: %.3f'% mae1)\n",
    "plt.text(0, 410000, method+'预测的MAPE: %.3f'% mape+'%') \n",
    "plt.text(0, 400000, '简单预测的MAPE: %.3f'% mape1+'%')\n",
    "plt.show()\n",
    "\n",
    "# plt.figure()\n",
    "# plt.plot(range(1,len(predict_data)+1), raw_data_uni_partial[:, 0], '-o',label= '实际数据')\n",
    "# plt.plot(range(1,len(predict_data)+1), actual_data, '-*',label= '实际数据2')\n",
    "# plt.legend()\n",
    "# plt.xlabel('时间')\n",
    "# plt.ylabel('峰值流速（kbps）')\n",
    "# plt.title('%s 到 %s'%(start_city+'节点',end_city+'节点'))\n",
    "# plt.show()\n",
    "# rmse = sqrt(mean_squared_error(test_y, yhat))\n",
    "# print(method+'预测的RMSE: %.3f' % rmse)\n",
    "# rmse1 = sqrt(mean_squared_error(test_y, compare_base_total))\n",
    "# print('简单预测的RMSE: %.3f'% rmse1)\n",
    "\n",
    "\n",
    "\n",
    "rmse = sqrt(mean_squared_error(test_y[-1], yhat[-1]))\n",
    "print(method+'预测的RMSE: %.3f' % rmse)\n",
    "rmse1 = sqrt(mean_squared_error(test_y[-1], compare_base_total[-n_predict]))\n",
    "print('简单预测的RMSE: %.3f'% rmse1)"
   ]
  }
 ],
 "metadata": {
  "kernelspec": {
   "display_name": "Python 3",
   "language": "python",
   "name": "python3"
  },
  "language_info": {
   "codemirror_mode": {
    "name": "ipython",
    "version": 3
   },
   "file_extension": ".py",
   "mimetype": "text/x-python",
   "name": "python",
   "nbconvert_exporter": "python",
   "pygments_lexer": "ipython3",
   "version": "3.6.5"
  }
 },
 "nbformat": 4,
 "nbformat_minor": 2
}
